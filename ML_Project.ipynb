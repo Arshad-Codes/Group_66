{
  "cells": [
    {
      "cell_type": "markdown",
      "metadata": {
        "id": "p_ORrfiR2G_Y"
      },
      "source": [
        "# Consumer Review Analysis\n",
        "## Group 66\n",
        "## Members:\n",
        "*   EG/2020/4331 - Arshad A.H.M\n",
        "*   EG/2020/4327 - Infas N.M\n"
      ]
    },
    {
      "cell_type": "markdown",
      "metadata": {
        "id": "LSiiAx-e5Sp-"
      },
      "source": [
        "### import necessary libraries"
      ]
    },
    {
      "cell_type": "code",
      "execution_count": 3,
      "metadata": {
        "id": "uhgV95DizXfQ"
      },
      "outputs": [],
      "source": [
        "import numpy as np\n",
        "import pandas as pd\n",
        "import matplotlib.pyplot as plt\n",
        "from sklearn.svm import SVC\n",
        "from sklearn.metrics import accuracy_score\n",
        "import seaborn as sns\n",
        "from sklearn.model_selection import train_test_split"
      ]
    },
    {
      "cell_type": "markdown",
      "metadata": {
        "id": "rFOCQi7V5d9v"
      },
      "source": [
        "### import the dataset\n"
      ]
    },
    {
      "cell_type": "code",
      "execution_count": 4,
      "metadata": {
        "colab": {
          "base_uri": "https://localhost:8080/"
        },
        "id": "mh8huon65mPM",
        "outputId": "ee9e2e25-bbc5-467b-b12c-d9a6e0d18fb3"
      },
      "outputs": [],
      "source": [
        "# from google.colab import drive\n",
        "# drive.mount('/content/drive')\n"
      ]
    },
    {
      "cell_type": "code",
      "execution_count": 55,
      "metadata": {
        "id": "bZylrxj6xdre"
      },
      "outputs": [],
      "source": [
        "# importing the dataset\n",
        "df = pd.read_csv('./data_amazon.xlsx - Sheet1.csv')"
      ]
    },
    {
      "cell_type": "markdown",
      "metadata": {
        "id": "asWUYFuhy-t5"
      },
      "source": [
        "### Data Analysing & preprocessing"
      ]
    },
    {
      "cell_type": "code",
      "execution_count": 6,
      "metadata": {
        "colab": {
          "base_uri": "https://localhost:8080/",
          "height": 206
        },
        "id": "p2wlz1t6zUVl",
        "outputId": "ba2eaa16-d4c6-44e1-e174-af480e783e36"
      },
      "outputs": [
        {
          "data": {
            "text/html": [
              "<div>\n",
              "<style scoped>\n",
              "    .dataframe tbody tr th:only-of-type {\n",
              "        vertical-align: middle;\n",
              "    }\n",
              "\n",
              "    .dataframe tbody tr th {\n",
              "        vertical-align: top;\n",
              "    }\n",
              "\n",
              "    .dataframe thead th {\n",
              "        text-align: right;\n",
              "    }\n",
              "</style>\n",
              "<table border=\"1\" class=\"dataframe\">\n",
              "  <thead>\n",
              "    <tr style=\"text-align: right;\">\n",
              "      <th></th>\n",
              "      <th>Title</th>\n",
              "      <th>Review</th>\n",
              "      <th>Cons_rating</th>\n",
              "      <th>Cloth_class</th>\n",
              "      <th>Materials</th>\n",
              "      <th>Construction</th>\n",
              "      <th>Color</th>\n",
              "      <th>Finishing</th>\n",
              "      <th>Durability</th>\n",
              "    </tr>\n",
              "  </thead>\n",
              "  <tbody>\n",
              "    <tr>\n",
              "      <th>0</th>\n",
              "      <td>NaN</td>\n",
              "      <td>Absolutely wonderful - silky and sexy and comf...</td>\n",
              "      <td>4.0</td>\n",
              "      <td>Intimates</td>\n",
              "      <td>0.0</td>\n",
              "      <td>0.0</td>\n",
              "      <td>0.0</td>\n",
              "      <td>1.0</td>\n",
              "      <td>0.0</td>\n",
              "    </tr>\n",
              "    <tr>\n",
              "      <th>1</th>\n",
              "      <td>NaN</td>\n",
              "      <td>Love this dress!  it's sooo pretty.  i happene...</td>\n",
              "      <td>5.0</td>\n",
              "      <td>Dresses</td>\n",
              "      <td>0.0</td>\n",
              "      <td>1.0</td>\n",
              "      <td>0.0</td>\n",
              "      <td>0.0</td>\n",
              "      <td>0.0</td>\n",
              "    </tr>\n",
              "    <tr>\n",
              "      <th>2</th>\n",
              "      <td>Some major design flaws</td>\n",
              "      <td>I had such high hopes for this dress and reall...</td>\n",
              "      <td>3.0</td>\n",
              "      <td>Dresses</td>\n",
              "      <td>0.0</td>\n",
              "      <td>0.0</td>\n",
              "      <td>0.0</td>\n",
              "      <td>1.0</td>\n",
              "      <td>0.0</td>\n",
              "    </tr>\n",
              "    <tr>\n",
              "      <th>3</th>\n",
              "      <td>My favorite buy!</td>\n",
              "      <td>I love, love, love this jumpsuit. it's fun, fl...</td>\n",
              "      <td>5.0</td>\n",
              "      <td>Pants</td>\n",
              "      <td>0.0</td>\n",
              "      <td>0.0</td>\n",
              "      <td>0.0</td>\n",
              "      <td>0.0</td>\n",
              "      <td>0.0</td>\n",
              "    </tr>\n",
              "    <tr>\n",
              "      <th>4</th>\n",
              "      <td>Flattering shirt</td>\n",
              "      <td>This shirt is very flattering to all due to th...</td>\n",
              "      <td>5.0</td>\n",
              "      <td>Blouses</td>\n",
              "      <td>0.0</td>\n",
              "      <td>1.0</td>\n",
              "      <td>0.0</td>\n",
              "      <td>0.0</td>\n",
              "      <td>0.0</td>\n",
              "    </tr>\n",
              "    <tr>\n",
              "      <th>5</th>\n",
              "      <td>Not for the very petite</td>\n",
              "      <td>I love tracy reese dresses, but this one is no...</td>\n",
              "      <td>2.0</td>\n",
              "      <td>Dresses</td>\n",
              "      <td>0.0</td>\n",
              "      <td>1.0</td>\n",
              "      <td>1.0</td>\n",
              "      <td>0.0</td>\n",
              "      <td>0.0</td>\n",
              "    </tr>\n",
              "  </tbody>\n",
              "</table>\n",
              "</div>"
            ],
            "text/plain": [
              "                     Title                                             Review  \\\n",
              "0                      NaN  Absolutely wonderful - silky and sexy and comf...   \n",
              "1                      NaN  Love this dress!  it's sooo pretty.  i happene...   \n",
              "2  Some major design flaws  I had such high hopes for this dress and reall...   \n",
              "3         My favorite buy!  I love, love, love this jumpsuit. it's fun, fl...   \n",
              "4         Flattering shirt  This shirt is very flattering to all due to th...   \n",
              "5  Not for the very petite  I love tracy reese dresses, but this one is no...   \n",
              "\n",
              "   Cons_rating Cloth_class  Materials  Construction  Color  Finishing  \\\n",
              "0          4.0   Intimates        0.0           0.0    0.0        1.0   \n",
              "1          5.0     Dresses        0.0           1.0    0.0        0.0   \n",
              "2          3.0     Dresses        0.0           0.0    0.0        1.0   \n",
              "3          5.0       Pants        0.0           0.0    0.0        0.0   \n",
              "4          5.0     Blouses        0.0           1.0    0.0        0.0   \n",
              "5          2.0     Dresses        0.0           1.0    1.0        0.0   \n",
              "\n",
              "   Durability  \n",
              "0         0.0  \n",
              "1         0.0  \n",
              "2         0.0  \n",
              "3         0.0  \n",
              "4         0.0  \n",
              "5         0.0  "
            ]
          },
          "execution_count": 6,
          "metadata": {},
          "output_type": "execute_result"
        }
      ],
      "source": [
        "# viewing the first part of dataset\n",
        "df.head(6)"
      ]
    },
    {
      "cell_type": "code",
      "execution_count": 7,
      "metadata": {
        "colab": {
          "base_uri": "https://localhost:8080/",
          "height": 300
        },
        "id": "u3-e_BkX5JTg",
        "outputId": "040e5e3e-36c1-4ee3-e194-ee664cfb7921"
      },
      "outputs": [
        {
          "data": {
            "text/html": [
              "<div>\n",
              "<style scoped>\n",
              "    .dataframe tbody tr th:only-of-type {\n",
              "        vertical-align: middle;\n",
              "    }\n",
              "\n",
              "    .dataframe tbody tr th {\n",
              "        vertical-align: top;\n",
              "    }\n",
              "\n",
              "    .dataframe thead th {\n",
              "        text-align: right;\n",
              "    }\n",
              "</style>\n",
              "<table border=\"1\" class=\"dataframe\">\n",
              "  <thead>\n",
              "    <tr style=\"text-align: right;\">\n",
              "      <th></th>\n",
              "      <th>Cons_rating</th>\n",
              "      <th>Materials</th>\n",
              "      <th>Construction</th>\n",
              "      <th>Color</th>\n",
              "      <th>Finishing</th>\n",
              "      <th>Durability</th>\n",
              "    </tr>\n",
              "  </thead>\n",
              "  <tbody>\n",
              "    <tr>\n",
              "      <th>count</th>\n",
              "      <td>49124.000000</td>\n",
              "      <td>5741.000000</td>\n",
              "      <td>5743.000000</td>\n",
              "      <td>5742.000000</td>\n",
              "      <td>5737.000000</td>\n",
              "      <td>5734.000000</td>\n",
              "    </tr>\n",
              "    <tr>\n",
              "      <th>mean</th>\n",
              "      <td>4.099463</td>\n",
              "      <td>0.306567</td>\n",
              "      <td>0.504092</td>\n",
              "      <td>0.259840</td>\n",
              "      <td>0.265818</td>\n",
              "      <td>0.214161</td>\n",
              "    </tr>\n",
              "    <tr>\n",
              "      <th>std</th>\n",
              "      <td>1.283707</td>\n",
              "      <td>0.474515</td>\n",
              "      <td>0.500375</td>\n",
              "      <td>0.452657</td>\n",
              "      <td>0.441807</td>\n",
              "      <td>0.425305</td>\n",
              "    </tr>\n",
              "    <tr>\n",
              "      <th>min</th>\n",
              "      <td>1.000000</td>\n",
              "      <td>0.000000</td>\n",
              "      <td>0.000000</td>\n",
              "      <td>0.000000</td>\n",
              "      <td>0.000000</td>\n",
              "      <td>0.000000</td>\n",
              "    </tr>\n",
              "    <tr>\n",
              "      <th>25%</th>\n",
              "      <td>3.000000</td>\n",
              "      <td>0.000000</td>\n",
              "      <td>0.000000</td>\n",
              "      <td>0.000000</td>\n",
              "      <td>0.000000</td>\n",
              "      <td>0.000000</td>\n",
              "    </tr>\n",
              "    <tr>\n",
              "      <th>50%</th>\n",
              "      <td>5.000000</td>\n",
              "      <td>0.000000</td>\n",
              "      <td>1.000000</td>\n",
              "      <td>0.000000</td>\n",
              "      <td>0.000000</td>\n",
              "      <td>0.000000</td>\n",
              "    </tr>\n",
              "    <tr>\n",
              "      <th>75%</th>\n",
              "      <td>5.000000</td>\n",
              "      <td>1.000000</td>\n",
              "      <td>1.000000</td>\n",
              "      <td>1.000000</td>\n",
              "      <td>1.000000</td>\n",
              "      <td>0.000000</td>\n",
              "    </tr>\n",
              "    <tr>\n",
              "      <th>max</th>\n",
              "      <td>5.000000</td>\n",
              "      <td>9.000000</td>\n",
              "      <td>2.000000</td>\n",
              "      <td>9.000000</td>\n",
              "      <td>1.000000</td>\n",
              "      <td>9.000000</td>\n",
              "    </tr>\n",
              "  </tbody>\n",
              "</table>\n",
              "</div>"
            ],
            "text/plain": [
              "        Cons_rating    Materials  Construction        Color    Finishing  \\\n",
              "count  49124.000000  5741.000000   5743.000000  5742.000000  5737.000000   \n",
              "mean       4.099463     0.306567      0.504092     0.259840     0.265818   \n",
              "std        1.283707     0.474515      0.500375     0.452657     0.441807   \n",
              "min        1.000000     0.000000      0.000000     0.000000     0.000000   \n",
              "25%        3.000000     0.000000      0.000000     0.000000     0.000000   \n",
              "50%        5.000000     0.000000      1.000000     0.000000     0.000000   \n",
              "75%        5.000000     1.000000      1.000000     1.000000     1.000000   \n",
              "max        5.000000     9.000000      2.000000     9.000000     1.000000   \n",
              "\n",
              "        Durability  \n",
              "count  5734.000000  \n",
              "mean      0.214161  \n",
              "std       0.425305  \n",
              "min       0.000000  \n",
              "25%       0.000000  \n",
              "50%       0.000000  \n",
              "75%       0.000000  \n",
              "max       9.000000  "
            ]
          },
          "execution_count": 7,
          "metadata": {},
          "output_type": "execute_result"
        }
      ],
      "source": [
        "# statistical analysis of numerical columns of the dataset\n",
        "df.describe()"
      ]
    },
    {
      "cell_type": "code",
      "execution_count": 8,
      "metadata": {
        "colab": {
          "base_uri": "https://localhost:8080/"
        },
        "id": "sZ1LQZSiAJM9",
        "outputId": "551e1050-c8f5-44aa-8fdd-46f83f16834e"
      },
      "outputs": [
        {
          "data": {
            "text/plain": [
              "Index(['Title', 'Review', 'Cons_rating', 'Cloth_class', 'Materials',\n",
              "       'Construction', 'Color', 'Finishing', 'Durability'],\n",
              "      dtype='object')"
            ]
          },
          "execution_count": 8,
          "metadata": {},
          "output_type": "execute_result"
        }
      ],
      "source": [
        "# display all the columns\n",
        "df.columns\n"
      ]
    },
    {
      "cell_type": "code",
      "execution_count": 9,
      "metadata": {
        "colab": {
          "base_uri": "https://localhost:8080/"
        },
        "id": "pVcN8bg6Gss4",
        "outputId": "fa063033-712b-474c-cc08-bd30ebae733b"
      },
      "outputs": [
        {
          "data": {
            "text/plain": [
              "Cons_rating\n",
              "5.0    28359\n",
              "4.0     8267\n",
              "3.0     5350\n",
              "1.0     3827\n",
              "2.0     3321\n",
              "Name: count, dtype: int64"
            ]
          },
          "execution_count": 9,
          "metadata": {},
          "output_type": "execute_result"
        }
      ],
      "source": [
        "# counting different values in rating\n",
        "df['Cons_rating'].value_counts()"
      ]
    },
    {
      "cell_type": "code",
      "execution_count": 10,
      "metadata": {
        "colab": {
          "base_uri": "https://localhost:8080/"
        },
        "id": "XATrbJLm5ZlO",
        "outputId": "d8321964-7919-470e-eaa5-8cbc3702986b"
      },
      "outputs": [
        {
          "data": {
            "text/plain": [
              "(49338, 9)"
            ]
          },
          "execution_count": 10,
          "metadata": {},
          "output_type": "execute_result"
        }
      ],
      "source": [
        "# no of records\n",
        "df.shape"
      ]
    },
    {
      "cell_type": "code",
      "execution_count": 11,
      "metadata": {
        "colab": {
          "base_uri": "https://localhost:8080/"
        },
        "id": "-Qrcxb3mHPL6",
        "outputId": "895c9afe-83e2-4a50-f086-f3978d7c8f55"
      },
      "outputs": [
        {
          "name": "stdout",
          "output_type": "stream",
          "text": [
            "<class 'pandas.core.frame.DataFrame'>\n",
            "RangeIndex: 49338 entries, 0 to 49337\n",
            "Data columns (total 9 columns):\n",
            " #   Column        Non-Null Count  Dtype  \n",
            "---  ------        --------------  -----  \n",
            " 0   Title         45370 non-null  object \n",
            " 1   Review        48507 non-null  object \n",
            " 2   Cons_rating   49124 non-null  float64\n",
            " 3   Cloth_class   49322 non-null  object \n",
            " 4   Materials     5741 non-null   float64\n",
            " 5   Construction  5743 non-null   float64\n",
            " 6   Color         5742 non-null   float64\n",
            " 7   Finishing     5737 non-null   float64\n",
            " 8   Durability    5734 non-null   float64\n",
            "dtypes: float64(6), object(3)\n",
            "memory usage: 3.4+ MB\n"
          ]
        }
      ],
      "source": [
        "# more information about the dataset features\n",
        "df.info()"
      ]
    },
    {
      "cell_type": "markdown",
      "metadata": {
        "id": "xXxoCLeqHbdv"
      },
      "source": [
        "#### Null values handeling\n",
        "\n"
      ]
    },
    {
      "cell_type": "code",
      "execution_count": 56,
      "metadata": {},
      "outputs": [
        {
          "data": {
            "image/png": "[encoded data removed]",
            "text/plain": [
              "<Figure size 1000x800 with 2 Axes>"
            ]
          },
          "metadata": {},
          "output_type": "display_data"
        }
      ],
      "source": [
        "# Select the relevant columns from the DataFrame\n",
        "selected_columns = ['Cons_rating', 'Materials', 'Construction', 'Color', 'Finishing', 'Durability']\n",
        "correlation_matrix = df[selected_columns].corr()\n",
        "\n",
        "# Create a heatmap\n",
        "plt.figure(figsize=(10, 8))\n",
        "sns.heatmap(correlation_matrix, annot=True, cmap='coolwarm', linewidths=.5)\n",
        "plt.title('Correlation Matrix')\n",
        "plt.show()"
      ]
    },
    {
      "cell_type": "code",
      "execution_count": 13,
      "metadata": {
        "id": "3AQRF5pgOzVY"
      },
      "outputs": [],
      "source": [
        "# here we can see that the correlation for between Cons_rating and other variable. those are not a strong correlation\n",
        "# tharefore we can drop those columns\n",
        "\n",
        "\n",
        "columns_to_drop = ['Materials', 'Construction', 'Color', 'Finishing', 'Durability']\n",
        "df = df.drop(columns=columns_to_drop)\n"
      ]
    },
    {
      "cell_type": "code",
      "execution_count": 14,
      "metadata": {
        "colab": {
          "base_uri": "https://localhost:8080/",
          "height": 206
        },
        "id": "9RL98q3OYsOK",
        "outputId": "e9865569-5e39-4fb3-8f9d-401006f41870"
      },
      "outputs": [
        {
          "data": {
            "text/html": [
              "<div>\n",
              "<style scoped>\n",
              "    .dataframe tbody tr th:only-of-type {\n",
              "        vertical-align: middle;\n",
              "    }\n",
              "\n",
              "    .dataframe tbody tr th {\n",
              "        vertical-align: top;\n",
              "    }\n",
              "\n",
              "    .dataframe thead th {\n",
              "        text-align: right;\n",
              "    }\n",
              "</style>\n",
              "<table border=\"1\" class=\"dataframe\">\n",
              "  <thead>\n",
              "    <tr style=\"text-align: right;\">\n",
              "      <th></th>\n",
              "      <th>Title</th>\n",
              "      <th>Review</th>\n",
              "      <th>Cons_rating</th>\n",
              "      <th>Cloth_class</th>\n",
              "    </tr>\n",
              "  </thead>\n",
              "  <tbody>\n",
              "    <tr>\n",
              "      <th>0</th>\n",
              "      <td>NaN</td>\n",
              "      <td>Absolutely wonderful - silky and sexy and comf...</td>\n",
              "      <td>4.0</td>\n",
              "      <td>Intimates</td>\n",
              "    </tr>\n",
              "    <tr>\n",
              "      <th>1</th>\n",
              "      <td>NaN</td>\n",
              "      <td>Love this dress!  it's sooo pretty.  i happene...</td>\n",
              "      <td>5.0</td>\n",
              "      <td>Dresses</td>\n",
              "    </tr>\n",
              "    <tr>\n",
              "      <th>2</th>\n",
              "      <td>Some major design flaws</td>\n",
              "      <td>I had such high hopes for this dress and reall...</td>\n",
              "      <td>3.0</td>\n",
              "      <td>Dresses</td>\n",
              "    </tr>\n",
              "    <tr>\n",
              "      <th>3</th>\n",
              "      <td>My favorite buy!</td>\n",
              "      <td>I love, love, love this jumpsuit. it's fun, fl...</td>\n",
              "      <td>5.0</td>\n",
              "      <td>Pants</td>\n",
              "    </tr>\n",
              "    <tr>\n",
              "      <th>4</th>\n",
              "      <td>Flattering shirt</td>\n",
              "      <td>This shirt is very flattering to all due to th...</td>\n",
              "      <td>5.0</td>\n",
              "      <td>Blouses</td>\n",
              "    </tr>\n",
              "    <tr>\n",
              "      <th>5</th>\n",
              "      <td>Not for the very petite</td>\n",
              "      <td>I love tracy reese dresses, but this one is no...</td>\n",
              "      <td>2.0</td>\n",
              "      <td>Dresses</td>\n",
              "    </tr>\n",
              "  </tbody>\n",
              "</table>\n",
              "</div>"
            ],
            "text/plain": [
              "                     Title                                             Review  \\\n",
              "0                      NaN  Absolutely wonderful - silky and sexy and comf...   \n",
              "1                      NaN  Love this dress!  it's sooo pretty.  i happene...   \n",
              "2  Some major design flaws  I had such high hopes for this dress and reall...   \n",
              "3         My favorite buy!  I love, love, love this jumpsuit. it's fun, fl...   \n",
              "4         Flattering shirt  This shirt is very flattering to all due to th...   \n",
              "5  Not for the very petite  I love tracy reese dresses, but this one is no...   \n",
              "\n",
              "   Cons_rating Cloth_class  \n",
              "0          4.0   Intimates  \n",
              "1          5.0     Dresses  \n",
              "2          3.0     Dresses  \n",
              "3          5.0       Pants  \n",
              "4          5.0     Blouses  \n",
              "5          2.0     Dresses  "
            ]
          },
          "execution_count": 14,
          "metadata": {},
          "output_type": "execute_result"
        }
      ],
      "source": [
        "df.head(6)"
      ]
    },
    {
      "cell_type": "code",
      "execution_count": 15,
      "metadata": {
        "colab": {
          "base_uri": "https://localhost:8080/"
        },
        "id": "sxHf_WQJg2T0",
        "outputId": "2fa1d46a-c29a-4160-c43d-f84d1087a3eb"
      },
      "outputs": [
        {
          "data": {
            "text/plain": [
              "Title          3968\n",
              "Review          831\n",
              "Cons_rating     214\n",
              "Cloth_class      16\n",
              "dtype: int64"
            ]
          },
          "execution_count": 15,
          "metadata": {},
          "output_type": "execute_result"
        }
      ],
      "source": [
        "# sum of the missing values\n",
        "df.isnull().sum()"
      ]
    },
    {
      "cell_type": "code",
      "execution_count": 16,
      "metadata": {
        "colab": {
          "base_uri": "https://localhost:8080/",
          "height": 455
        },
        "id": "EaBhwBWco5oE",
        "outputId": "caf72d00-882c-42c2-8a8d-2681e8dd000c"
      },
      "outputs": [
        {
          "data": {
            "text/plain": [
              "<Axes: >"
            ]
          },
          "execution_count": 16,
          "metadata": {},
          "output_type": "execute_result"
        },
        {
          "data": {
            "image/png": "[encoded data removed]",
            "text/plain": [
              "<Figure size 640x480 with 2 Axes>"
            ]
          },
          "metadata": {},
          "output_type": "display_data"
        }
      ],
      "source": [
        "#plotting the heatmap. white color defines the nul values\n",
        "sns.heatmap(data=df.isnull())"
      ]
    },
    {
      "cell_type": "code",
      "execution_count": 17,
      "metadata": {
        "id": "skneUu2SyHKq"
      },
      "outputs": [],
      "source": [
        "# dropping the missing values because missing values are small compared to the dataset\n",
        "df = df.dropna()"
      ]
    },
    {
      "cell_type": "code",
      "execution_count": 18,
      "metadata": {
        "colab": {
          "base_uri": "https://localhost:8080/",
          "height": 455
        },
        "id": "2TIsrEQDyPVw",
        "outputId": "f0d90054-89d5-4df8-f35e-602a7f65c11d"
      },
      "outputs": [
        {
          "data": {
            "text/plain": [
              "<Axes: >"
            ]
          },
          "execution_count": 18,
          "metadata": {},
          "output_type": "execute_result"
        },
        {
          "data": {
            "image/png": "[encoded data removed]",
            "text/plain": [
              "<Figure size 640x480 with 2 Axes>"
            ]
          },
          "metadata": {},
          "output_type": "display_data"
        }
      ],
      "source": [
        "# plotting the heatmap again. here we can see that there is no null values\n",
        "sns.heatmap(data=df.isnull())"
      ]
    },
    {
      "cell_type": "code",
      "execution_count": 19,
      "metadata": {
        "colab": {
          "base_uri": "https://localhost:8080/"
        },
        "id": "hSnFEfosyYBx",
        "outputId": "be7a5db5-7ab9-4ab0-dacc-6cc24d049c63"
      },
      "outputs": [
        {
          "data": {
            "text/plain": [
              "Title          0\n",
              "Review         0\n",
              "Cons_rating    0\n",
              "Cloth_class    0\n",
              "dtype: int64"
            ]
          },
          "execution_count": 19,
          "metadata": {},
          "output_type": "execute_result"
        }
      ],
      "source": [
        "df.isnull().sum()"
      ]
    },
    {
      "cell_type": "code",
      "execution_count": 20,
      "metadata": {
        "colab": {
          "base_uri": "https://localhost:8080/"
        },
        "id": "V6z_0EQCye3S",
        "outputId": "bd81e7e1-cbf1-41f6-dab4-a00c6fcb5610"
      },
      "outputs": [
        {
          "data": {
            "text/plain": [
              "(45308, 4)"
            ]
          },
          "execution_count": 20,
          "metadata": {},
          "output_type": "execute_result"
        }
      ],
      "source": [
        "df.shape\n"
      ]
    },
    {
      "cell_type": "code",
      "execution_count": 21,
      "metadata": {
        "colab": {
          "base_uri": "https://localhost:8080/",
          "height": 300
        },
        "id": "6KCnew710QH8",
        "outputId": "d945425b-ce9c-43b5-d2db-f0745ba4a8f8"
      },
      "outputs": [
        {
          "data": {
            "text/html": [
              "<div>\n",
              "<style scoped>\n",
              "    .dataframe tbody tr th:only-of-type {\n",
              "        vertical-align: middle;\n",
              "    }\n",
              "\n",
              "    .dataframe tbody tr th {\n",
              "        vertical-align: top;\n",
              "    }\n",
              "\n",
              "    .dataframe thead th {\n",
              "        text-align: right;\n",
              "    }\n",
              "</style>\n",
              "<table border=\"1\" class=\"dataframe\">\n",
              "  <thead>\n",
              "    <tr style=\"text-align: right;\">\n",
              "      <th></th>\n",
              "      <th>Cons_rating</th>\n",
              "    </tr>\n",
              "  </thead>\n",
              "  <tbody>\n",
              "    <tr>\n",
              "      <th>count</th>\n",
              "      <td>45308.000000</td>\n",
              "    </tr>\n",
              "    <tr>\n",
              "      <th>mean</th>\n",
              "      <td>4.086541</td>\n",
              "    </tr>\n",
              "    <tr>\n",
              "      <th>std</th>\n",
              "      <td>1.296556</td>\n",
              "    </tr>\n",
              "    <tr>\n",
              "      <th>min</th>\n",
              "      <td>1.000000</td>\n",
              "    </tr>\n",
              "    <tr>\n",
              "      <th>25%</th>\n",
              "      <td>3.000000</td>\n",
              "    </tr>\n",
              "    <tr>\n",
              "      <th>50%</th>\n",
              "      <td>5.000000</td>\n",
              "    </tr>\n",
              "    <tr>\n",
              "      <th>75%</th>\n",
              "      <td>5.000000</td>\n",
              "    </tr>\n",
              "    <tr>\n",
              "      <th>max</th>\n",
              "      <td>5.000000</td>\n",
              "    </tr>\n",
              "  </tbody>\n",
              "</table>\n",
              "</div>"
            ],
            "text/plain": [
              "        Cons_rating\n",
              "count  45308.000000\n",
              "mean       4.086541\n",
              "std        1.296556\n",
              "min        1.000000\n",
              "25%        3.000000\n",
              "50%        5.000000\n",
              "75%        5.000000\n",
              "max        5.000000"
            ]
          },
          "execution_count": 21,
          "metadata": {},
          "output_type": "execute_result"
        }
      ],
      "source": [
        "# statistical datas related to dataset features\n",
        "df.describe()"
      ]
    },
    {
      "cell_type": "code",
      "execution_count": 22,
      "metadata": {
        "colab": {
          "base_uri": "https://localhost:8080/"
        },
        "id": "2wY0WjWh52AD",
        "outputId": "a359a81e-150e-4fa2-868a-a5a48c081e44"
      },
      "outputs": [
        {
          "data": {
            "text/plain": [
              "Cons_rating\n",
              "5.0    26097\n",
              "4.0     7483\n",
              "3.0     4947\n",
              "1.0     3667\n",
              "2.0     3114\n",
              "Name: count, dtype: int64"
            ]
          },
          "execution_count": 22,
          "metadata": {},
          "output_type": "execute_result"
        }
      ],
      "source": [
        "\n",
        "df['Cons_rating'].value_counts()"
      ]
    },
    {
      "cell_type": "code",
      "execution_count": 23,
      "metadata": {
        "colab": {
          "base_uri": "https://localhost:8080/",
          "height": 533
        },
        "id": "s7aIG5PZOqoN",
        "outputId": "7b1e0544-7119-4aaa-f38b-e6dd311b5e50"
      },
      "outputs": [
        {
          "data": {
            "text/plain": [
              "Cloth_class\n",
              "Dresses           7639\n",
              "Blouses           5042\n",
              "Knits             3981\n",
              "Jeans             3772\n",
              "Sweaters          3638\n",
              "Pants             3436\n",
              "Jackets           3114\n",
              "Shorts            3021\n",
              "Sleep             2722\n",
              "Shirts            2498\n",
              "Blazer            1768\n",
              "Suits             1309\n",
              "Fine gauge         927\n",
              "Skirts             796\n",
              "Lounge             574\n",
              "Swim               293\n",
              "Outerwear          281\n",
              "Legwear            131\n",
              "Intimates          120\n",
              "Layering           115\n",
              "Trend              107\n",
              "Dress               22\n",
              "Casual bottoms       1\n",
              "Chemises             1\n",
              "Name: count, dtype: int64"
            ]
          },
          "execution_count": 23,
          "metadata": {},
          "output_type": "execute_result"
        }
      ],
      "source": [
        "df['Cloth_class'].value_counts()"
      ]
    },
    {
      "cell_type": "code",
      "execution_count": 24,
      "metadata": {},
      "outputs": [],
      "source": [
        "# as we are interested in review and ratings we can drop cloth_class and Title\n",
        "df=df.drop(columns=['Title','Cloth_class'])"
      ]
    },
    {
      "cell_type": "code",
      "execution_count": 25,
      "metadata": {
        "colab": {
          "base_uri": "https://localhost:8080/",
          "height": 206
        },
        "id": "sxB6GpSgQYhl",
        "outputId": "91ac2bbc-0f18-4565-b8b9-b5b8b63624bf"
      },
      "outputs": [
        {
          "data": {
            "text/html": [
              "<div>\n",
              "<style scoped>\n",
              "    .dataframe tbody tr th:only-of-type {\n",
              "        vertical-align: middle;\n",
              "    }\n",
              "\n",
              "    .dataframe tbody tr th {\n",
              "        vertical-align: top;\n",
              "    }\n",
              "\n",
              "    .dataframe thead th {\n",
              "        text-align: right;\n",
              "    }\n",
              "</style>\n",
              "<table border=\"1\" class=\"dataframe\">\n",
              "  <thead>\n",
              "    <tr style=\"text-align: right;\">\n",
              "      <th></th>\n",
              "      <th>Review</th>\n",
              "      <th>Cons_rating</th>\n",
              "    </tr>\n",
              "  </thead>\n",
              "  <tbody>\n",
              "    <tr>\n",
              "      <th>2</th>\n",
              "      <td>I had such high hopes for this dress and reall...</td>\n",
              "      <td>3.0</td>\n",
              "    </tr>\n",
              "    <tr>\n",
              "      <th>3</th>\n",
              "      <td>I love, love, love this jumpsuit. it's fun, fl...</td>\n",
              "      <td>5.0</td>\n",
              "    </tr>\n",
              "    <tr>\n",
              "      <th>4</th>\n",
              "      <td>This shirt is very flattering to all due to th...</td>\n",
              "      <td>5.0</td>\n",
              "    </tr>\n",
              "    <tr>\n",
              "      <th>5</th>\n",
              "      <td>I love tracy reese dresses, but this one is no...</td>\n",
              "      <td>2.0</td>\n",
              "    </tr>\n",
              "    <tr>\n",
              "      <th>6</th>\n",
              "      <td>I aded this in my basket at hte last mintue to...</td>\n",
              "      <td>5.0</td>\n",
              "    </tr>\n",
              "  </tbody>\n",
              "</table>\n",
              "</div>"
            ],
            "text/plain": [
              "                                              Review  Cons_rating\n",
              "2  I had such high hopes for this dress and reall...          3.0\n",
              "3  I love, love, love this jumpsuit. it's fun, fl...          5.0\n",
              "4  This shirt is very flattering to all due to th...          5.0\n",
              "5  I love tracy reese dresses, but this one is no...          2.0\n",
              "6  I aded this in my basket at hte last mintue to...          5.0"
            ]
          },
          "execution_count": 25,
          "metadata": {},
          "output_type": "execute_result"
        }
      ],
      "source": [
        "df.head()"
      ]
    },
    {
      "cell_type": "markdown",
      "metadata": {
        "id": "3wN_KiF3hzXM"
      },
      "source": [
        "#### Data cleaning\n"
      ]
    },
    {
      "cell_type": "markdown",
      "metadata": {},
      "source": [
        "##### data cleaning is the main part in this analysis as we are processing the text data."
      ]
    },
    {
      "cell_type": "code",
      "execution_count": 26,
      "metadata": {
        "colab": {
          "base_uri": "https://localhost:8080/"
        },
        "id": "95q_AEXkh7Nq",
        "outputId": "e177a74d-2973-46a0-d79d-e3bca219d793"
      },
      "outputs": [
        {
          "name": "stderr",
          "output_type": "stream",
          "text": [
            "[nltk_data] Downloading package wordnet to\n",
            "[nltk_data]     C:\\Users\\User\\AppData\\Roaming\\nltk_data...\n",
            "[nltk_data]   Package wordnet is already up-to-date!\n",
            "[nltk_data] Downloading package stopwords to\n",
            "[nltk_data]     C:\\Users\\User\\AppData\\Roaming\\nltk_data...\n",
            "[nltk_data]   Package stopwords is already up-to-date!\n",
            "[nltk_data] Downloading package punkt to\n",
            "[nltk_data]     C:\\Users\\User\\AppData\\Roaming\\nltk_data...\n",
            "[nltk_data]   Package punkt is already up-to-date!\n"
          ]
        }
      ],
      "source": [
        "import nltk\n",
        "nltk.download('wordnet')\n",
        "nltk.download('stopwords')\n",
        "nltk. download('punkt')\n",
        "from nltk.corpus import stopwords\n",
        "from nltk.tokenize import word_tokenize\n",
        "import re"
      ]
    },
    {
      "cell_type": "code",
      "execution_count": 27,
      "metadata": {
        "id": "_sSjk4ePlOCr"
      },
      "outputs": [],
      "source": [
        "\n",
        "from nltk.stem import WordNetLemmatizer\n",
        "import re\n",
        "from nltk.tokenize import word_tokenize\n",
        "import gensim\n",
        "import string"
      ]
    },
    {
      "cell_type": "code",
      "execution_count": 28,
      "metadata": {
        "colab": {
          "base_uri": "https://localhost:8080/",
          "height": 206
        },
        "id": "YqEBGqs2VXyG",
        "outputId": "9998dc67-eef1-4541-db0a-44c9cdd1bb58"
      },
      "outputs": [
        {
          "data": {
            "text/html": [
              "<div>\n",
              "<style scoped>\n",
              "    .dataframe tbody tr th:only-of-type {\n",
              "        vertical-align: middle;\n",
              "    }\n",
              "\n",
              "    .dataframe tbody tr th {\n",
              "        vertical-align: top;\n",
              "    }\n",
              "\n",
              "    .dataframe thead th {\n",
              "        text-align: right;\n",
              "    }\n",
              "</style>\n",
              "<table border=\"1\" class=\"dataframe\">\n",
              "  <thead>\n",
              "    <tr style=\"text-align: right;\">\n",
              "      <th></th>\n",
              "      <th>Review</th>\n",
              "      <th>Cons_rating</th>\n",
              "      <th>cleaned_review_1</th>\n",
              "    </tr>\n",
              "  </thead>\n",
              "  <tbody>\n",
              "    <tr>\n",
              "      <th>2</th>\n",
              "      <td>I had such high hopes for this dress and reall...</td>\n",
              "      <td>3.0</td>\n",
              "      <td>i had such high hopes for this dress and reall...</td>\n",
              "    </tr>\n",
              "    <tr>\n",
              "      <th>3</th>\n",
              "      <td>I love, love, love this jumpsuit. it's fun, fl...</td>\n",
              "      <td>5.0</td>\n",
              "      <td>i love love love this jumpsuit its fun flirty ...</td>\n",
              "    </tr>\n",
              "    <tr>\n",
              "      <th>4</th>\n",
              "      <td>This shirt is very flattering to all due to th...</td>\n",
              "      <td>5.0</td>\n",
              "      <td>this shirt is very flattering to all due to th...</td>\n",
              "    </tr>\n",
              "    <tr>\n",
              "      <th>5</th>\n",
              "      <td>I love tracy reese dresses, but this one is no...</td>\n",
              "      <td>2.0</td>\n",
              "      <td>i love tracy reese dresses but this one is not...</td>\n",
              "    </tr>\n",
              "    <tr>\n",
              "      <th>6</th>\n",
              "      <td>I aded this in my basket at hte last mintue to...</td>\n",
              "      <td>5.0</td>\n",
              "      <td>i aded this in my basket at hte last mintue to...</td>\n",
              "    </tr>\n",
              "  </tbody>\n",
              "</table>\n",
              "</div>"
            ],
            "text/plain": [
              "                                              Review  Cons_rating  \\\n",
              "2  I had such high hopes for this dress and reall...          3.0   \n",
              "3  I love, love, love this jumpsuit. it's fun, fl...          5.0   \n",
              "4  This shirt is very flattering to all due to th...          5.0   \n",
              "5  I love tracy reese dresses, but this one is no...          2.0   \n",
              "6  I aded this in my basket at hte last mintue to...          5.0   \n",
              "\n",
              "                                    cleaned_review_1  \n",
              "2  i had such high hopes for this dress and reall...  \n",
              "3  i love love love this jumpsuit its fun flirty ...  \n",
              "4  this shirt is very flattering to all due to th...  \n",
              "5  i love tracy reese dresses but this one is not...  \n",
              "6  i aded this in my basket at hte last mintue to...  "
            ]
          },
          "execution_count": 28,
          "metadata": {},
          "output_type": "execute_result"
        }
      ],
      "source": [
        "# 1. convert all the words into lowercase and removing punctuations\n",
        "def clean_data1(text):\n",
        "  text = [word.lower() for word in text]\n",
        "  no_punct=[letter for letter in text if letter not in string.punctuation]\n",
        "  words_wo_punct=''.join(no_punct)\n",
        "  return words_wo_punct\n",
        "df['cleaned_review_1']=df['Review'].apply(lambda x: clean_data1(x))\n",
        "df.head()\n"
      ]
    },
    {
      "cell_type": "code",
      "execution_count": 29,
      "metadata": {
        "colab": {
          "base_uri": "https://localhost:8080/",
          "height": 206
        },
        "id": "55MnQLdCr6eg",
        "outputId": "6909940d-9723-44b7-8083-c0fac2768f01"
      },
      "outputs": [
        {
          "data": {
            "text/html": [
              "<div>\n",
              "<style scoped>\n",
              "    .dataframe tbody tr th:only-of-type {\n",
              "        vertical-align: middle;\n",
              "    }\n",
              "\n",
              "    .dataframe tbody tr th {\n",
              "        vertical-align: top;\n",
              "    }\n",
              "\n",
              "    .dataframe thead th {\n",
              "        text-align: right;\n",
              "    }\n",
              "</style>\n",
              "<table border=\"1\" class=\"dataframe\">\n",
              "  <thead>\n",
              "    <tr style=\"text-align: right;\">\n",
              "      <th></th>\n",
              "      <th>Review</th>\n",
              "      <th>Cons_rating</th>\n",
              "      <th>cleaned_review_1</th>\n",
              "      <th>cleaned_review_2</th>\n",
              "    </tr>\n",
              "  </thead>\n",
              "  <tbody>\n",
              "    <tr>\n",
              "      <th>2</th>\n",
              "      <td>I had such high hopes for this dress and reall...</td>\n",
              "      <td>3.0</td>\n",
              "      <td>i had such high hopes for this dress and reall...</td>\n",
              "      <td>i had such high hopes for this dress and reall...</td>\n",
              "    </tr>\n",
              "    <tr>\n",
              "      <th>3</th>\n",
              "      <td>I love, love, love this jumpsuit. it's fun, fl...</td>\n",
              "      <td>5.0</td>\n",
              "      <td>i love love love this jumpsuit its fun flirty ...</td>\n",
              "      <td>i love love love this jumpsuit its fun flirty ...</td>\n",
              "    </tr>\n",
              "    <tr>\n",
              "      <th>4</th>\n",
              "      <td>This shirt is very flattering to all due to th...</td>\n",
              "      <td>5.0</td>\n",
              "      <td>this shirt is very flattering to all due to th...</td>\n",
              "      <td>this shirt is very flattering to all due to th...</td>\n",
              "    </tr>\n",
              "    <tr>\n",
              "      <th>5</th>\n",
              "      <td>I love tracy reese dresses, but this one is no...</td>\n",
              "      <td>2.0</td>\n",
              "      <td>i love tracy reese dresses but this one is not...</td>\n",
              "      <td>i love tracy reese dresses but this one is not...</td>\n",
              "    </tr>\n",
              "    <tr>\n",
              "      <th>6</th>\n",
              "      <td>I aded this in my basket at hte last mintue to...</td>\n",
              "      <td>5.0</td>\n",
              "      <td>i aded this in my basket at hte last mintue to...</td>\n",
              "      <td>i aded this in my basket at hte last mintue to...</td>\n",
              "    </tr>\n",
              "  </tbody>\n",
              "</table>\n",
              "</div>"
            ],
            "text/plain": [
              "                                              Review  Cons_rating  \\\n",
              "2  I had such high hopes for this dress and reall...          3.0   \n",
              "3  I love, love, love this jumpsuit. it's fun, fl...          5.0   \n",
              "4  This shirt is very flattering to all due to th...          5.0   \n",
              "5  I love tracy reese dresses, but this one is no...          2.0   \n",
              "6  I aded this in my basket at hte last mintue to...          5.0   \n",
              "\n",
              "                                    cleaned_review_1  \\\n",
              "2  i had such high hopes for this dress and reall...   \n",
              "3  i love love love this jumpsuit its fun flirty ...   \n",
              "4  this shirt is very flattering to all due to th...   \n",
              "5  i love tracy reese dresses but this one is not...   \n",
              "6  i aded this in my basket at hte last mintue to...   \n",
              "\n",
              "                                    cleaned_review_2  \n",
              "2  i had such high hopes for this dress and reall...  \n",
              "3  i love love love this jumpsuit its fun flirty ...  \n",
              "4  this shirt is very flattering to all due to th...  \n",
              "5  i love tracy reese dresses but this one is not...  \n",
              "6  i aded this in my basket at hte last mintue to...  "
            ]
          },
          "execution_count": 29,
          "metadata": {},
          "output_type": "execute_result"
        }
      ],
      "source": [
        "# 2. removing unnecessary letters and brackets\n",
        "def clean_data2(text):\n",
        "  text = [re.sub(r\"[0-9]\", \"\",words) for words in text]             #removing numbers\n",
        "  text = [re.sub(r\"(\\(.*\\))|(\\[.*\\])\", \"\",words) for words in text] #removing brackets\n",
        "  text = [re.sub(r\"[^\\w\\s]\", \"\", words) for words in text]          #removing symbols\n",
        "  text = ''.join(text)\n",
        "  return text\n",
        "\n",
        "df['cleaned_review_2']=df['cleaned_review_1'].apply(lambda x: clean_data2(x))\n",
        "df.head()\n"
      ]
    },
    {
      "cell_type": "code",
      "execution_count": 30,
      "metadata": {
        "colab": {
          "base_uri": "https://localhost:8080/",
          "height": 293
        },
        "id": "4iiefMnxyd4P",
        "outputId": "ca198f68-a1bf-4615-8a1b-c9f076a9966f"
      },
      "outputs": [
        {
          "data": {
            "text/html": [
              "<div>\n",
              "<style scoped>\n",
              "    .dataframe tbody tr th:only-of-type {\n",
              "        vertical-align: middle;\n",
              "    }\n",
              "\n",
              "    .dataframe tbody tr th {\n",
              "        vertical-align: top;\n",
              "    }\n",
              "\n",
              "    .dataframe thead th {\n",
              "        text-align: right;\n",
              "    }\n",
              "</style>\n",
              "<table border=\"1\" class=\"dataframe\">\n",
              "  <thead>\n",
              "    <tr style=\"text-align: right;\">\n",
              "      <th></th>\n",
              "      <th>Review</th>\n",
              "      <th>Cons_rating</th>\n",
              "      <th>cleaned_review_1</th>\n",
              "      <th>cleaned_review_2</th>\n",
              "      <th>cleaned_review_3</th>\n",
              "    </tr>\n",
              "  </thead>\n",
              "  <tbody>\n",
              "    <tr>\n",
              "      <th>2</th>\n",
              "      <td>I had such high hopes for this dress and reall...</td>\n",
              "      <td>3.0</td>\n",
              "      <td>i had such high hopes for this dress and reall...</td>\n",
              "      <td>i had such high hopes for this dress and reall...</td>\n",
              "      <td>[high, hopes, dress, really, wanted, work, ini...</td>\n",
              "    </tr>\n",
              "    <tr>\n",
              "      <th>3</th>\n",
              "      <td>I love, love, love this jumpsuit. it's fun, fl...</td>\n",
              "      <td>5.0</td>\n",
              "      <td>i love love love this jumpsuit its fun flirty ...</td>\n",
              "      <td>i love love love this jumpsuit its fun flirty ...</td>\n",
              "      <td>[love, love, love, jumpsuit, fun, flirty, fabu...</td>\n",
              "    </tr>\n",
              "    <tr>\n",
              "      <th>4</th>\n",
              "      <td>This shirt is very flattering to all due to th...</td>\n",
              "      <td>5.0</td>\n",
              "      <td>this shirt is very flattering to all due to th...</td>\n",
              "      <td>this shirt is very flattering to all due to th...</td>\n",
              "      <td>[shirt, flattering, due, adjustable, front, ti...</td>\n",
              "    </tr>\n",
              "    <tr>\n",
              "      <th>5</th>\n",
              "      <td>I love tracy reese dresses, but this one is no...</td>\n",
              "      <td>2.0</td>\n",
              "      <td>i love tracy reese dresses but this one is not...</td>\n",
              "      <td>i love tracy reese dresses but this one is not...</td>\n",
              "      <td>[love, tracy, reese, dresses, one, not, petite...</td>\n",
              "    </tr>\n",
              "    <tr>\n",
              "      <th>6</th>\n",
              "      <td>I aded this in my basket at hte last mintue to...</td>\n",
              "      <td>5.0</td>\n",
              "      <td>i aded this in my basket at hte last mintue to...</td>\n",
              "      <td>i aded this in my basket at hte last mintue to...</td>\n",
              "      <td>[aded, basket, hte, last, mintue, see, would, ...</td>\n",
              "    </tr>\n",
              "  </tbody>\n",
              "</table>\n",
              "</div>"
            ],
            "text/plain": [
              "                                              Review  Cons_rating  \\\n",
              "2  I had such high hopes for this dress and reall...          3.0   \n",
              "3  I love, love, love this jumpsuit. it's fun, fl...          5.0   \n",
              "4  This shirt is very flattering to all due to th...          5.0   \n",
              "5  I love tracy reese dresses, but this one is no...          2.0   \n",
              "6  I aded this in my basket at hte last mintue to...          5.0   \n",
              "\n",
              "                                    cleaned_review_1  \\\n",
              "2  i had such high hopes for this dress and reall...   \n",
              "3  i love love love this jumpsuit its fun flirty ...   \n",
              "4  this shirt is very flattering to all due to th...   \n",
              "5  i love tracy reese dresses but this one is not...   \n",
              "6  i aded this in my basket at hte last mintue to...   \n",
              "\n",
              "                                    cleaned_review_2  \\\n",
              "2  i had such high hopes for this dress and reall...   \n",
              "3  i love love love this jumpsuit its fun flirty ...   \n",
              "4  this shirt is very flattering to all due to th...   \n",
              "5  i love tracy reese dresses but this one is not...   \n",
              "6  i aded this in my basket at hte last mintue to...   \n",
              "\n",
              "                                    cleaned_review_3  \n",
              "2  [high, hopes, dress, really, wanted, work, ini...  \n",
              "3  [love, love, love, jumpsuit, fun, flirty, fabu...  \n",
              "4  [shirt, flattering, due, adjustable, front, ti...  \n",
              "5  [love, tracy, reese, dresses, one, not, petite...  \n",
              "6  [aded, basket, hte, last, mintue, see, would, ...  "
            ]
          },
          "execution_count": 30,
          "metadata": {},
          "output_type": "execute_result"
        }
      ],
      "source": [
        "# 3. tokenize the strings (splitting the string into words)\n",
        "# and removing stop words (is, are, therefore ....)\n",
        "\n",
        "def clean_data3(text):\n",
        "  STOPWORDS = set(stopwords.words('english'))\n",
        "  STOPWORDS.remove('not')                           # because \"not\" word is used for showing the dislikes\n",
        "  tokenized = word_tokenize(text)                   # also we can use tokenized=re.split(\"\\W+\",text)\n",
        "  cleaned_wo_sw = [word for word in tokenized if word not in STOPWORDS]\n",
        "  return cleaned_wo_sw\n",
        "\n",
        "df['cleaned_review_3']=df['cleaned_review_2'].apply(lambda x: clean_data3(x))\n",
        "df.head()"
      ]
    },
    {
      "cell_type": "code",
      "execution_count": 31,
      "metadata": {
        "colab": {
          "base_uri": "https://localhost:8080/",
          "height": 293
        },
        "id": "R5Sj__G65mWk",
        "outputId": "70736545-c158-4e48-9c45-692722d8721e"
      },
      "outputs": [
        {
          "data": {
            "text/html": [
              "<div>\n",
              "<style scoped>\n",
              "    .dataframe tbody tr th:only-of-type {\n",
              "        vertical-align: middle;\n",
              "    }\n",
              "\n",
              "    .dataframe tbody tr th {\n",
              "        vertical-align: top;\n",
              "    }\n",
              "\n",
              "    .dataframe thead th {\n",
              "        text-align: right;\n",
              "    }\n",
              "</style>\n",
              "<table border=\"1\" class=\"dataframe\">\n",
              "  <thead>\n",
              "    <tr style=\"text-align: right;\">\n",
              "      <th></th>\n",
              "      <th>Review</th>\n",
              "      <th>Cons_rating</th>\n",
              "      <th>cleaned_review_1</th>\n",
              "      <th>cleaned_review_2</th>\n",
              "      <th>cleaned_review_3</th>\n",
              "      <th>cleaned_review_4</th>\n",
              "    </tr>\n",
              "  </thead>\n",
              "  <tbody>\n",
              "    <tr>\n",
              "      <th>2</th>\n",
              "      <td>I had such high hopes for this dress and reall...</td>\n",
              "      <td>3.0</td>\n",
              "      <td>i had such high hopes for this dress and reall...</td>\n",
              "      <td>i had such high hopes for this dress and reall...</td>\n",
              "      <td>[high, hopes, dress, really, wanted, work, ini...</td>\n",
              "      <td>[high, hope, dress, really, wanted, work, init...</td>\n",
              "    </tr>\n",
              "    <tr>\n",
              "      <th>3</th>\n",
              "      <td>I love, love, love this jumpsuit. it's fun, fl...</td>\n",
              "      <td>5.0</td>\n",
              "      <td>i love love love this jumpsuit its fun flirty ...</td>\n",
              "      <td>i love love love this jumpsuit its fun flirty ...</td>\n",
              "      <td>[love, love, love, jumpsuit, fun, flirty, fabu...</td>\n",
              "      <td>[love, love, love, jumpsuit, fun, flirty, fabu...</td>\n",
              "    </tr>\n",
              "    <tr>\n",
              "      <th>4</th>\n",
              "      <td>This shirt is very flattering to all due to th...</td>\n",
              "      <td>5.0</td>\n",
              "      <td>this shirt is very flattering to all due to th...</td>\n",
              "      <td>this shirt is very flattering to all due to th...</td>\n",
              "      <td>[shirt, flattering, due, adjustable, front, ti...</td>\n",
              "      <td>[shirt, flattering, due, adjustable, front, ti...</td>\n",
              "    </tr>\n",
              "    <tr>\n",
              "      <th>5</th>\n",
              "      <td>I love tracy reese dresses, but this one is no...</td>\n",
              "      <td>2.0</td>\n",
              "      <td>i love tracy reese dresses but this one is not...</td>\n",
              "      <td>i love tracy reese dresses but this one is not...</td>\n",
              "      <td>[love, tracy, reese, dresses, one, not, petite...</td>\n",
              "      <td>[love, tracy, reese, dress, one, not, petite, ...</td>\n",
              "    </tr>\n",
              "    <tr>\n",
              "      <th>6</th>\n",
              "      <td>I aded this in my basket at hte last mintue to...</td>\n",
              "      <td>5.0</td>\n",
              "      <td>i aded this in my basket at hte last mintue to...</td>\n",
              "      <td>i aded this in my basket at hte last mintue to...</td>\n",
              "      <td>[aded, basket, hte, last, mintue, see, would, ...</td>\n",
              "      <td>[aded, basket, hte, last, mintue, see, would, ...</td>\n",
              "    </tr>\n",
              "  </tbody>\n",
              "</table>\n",
              "</div>"
            ],
            "text/plain": [
              "                                              Review  Cons_rating  \\\n",
              "2  I had such high hopes for this dress and reall...          3.0   \n",
              "3  I love, love, love this jumpsuit. it's fun, fl...          5.0   \n",
              "4  This shirt is very flattering to all due to th...          5.0   \n",
              "5  I love tracy reese dresses, but this one is no...          2.0   \n",
              "6  I aded this in my basket at hte last mintue to...          5.0   \n",
              "\n",
              "                                    cleaned_review_1  \\\n",
              "2  i had such high hopes for this dress and reall...   \n",
              "3  i love love love this jumpsuit its fun flirty ...   \n",
              "4  this shirt is very flattering to all due to th...   \n",
              "5  i love tracy reese dresses but this one is not...   \n",
              "6  i aded this in my basket at hte last mintue to...   \n",
              "\n",
              "                                    cleaned_review_2  \\\n",
              "2  i had such high hopes for this dress and reall...   \n",
              "3  i love love love this jumpsuit its fun flirty ...   \n",
              "4  this shirt is very flattering to all due to th...   \n",
              "5  i love tracy reese dresses but this one is not...   \n",
              "6  i aded this in my basket at hte last mintue to...   \n",
              "\n",
              "                                    cleaned_review_3  \\\n",
              "2  [high, hopes, dress, really, wanted, work, ini...   \n",
              "3  [love, love, love, jumpsuit, fun, flirty, fabu...   \n",
              "4  [shirt, flattering, due, adjustable, front, ti...   \n",
              "5  [love, tracy, reese, dresses, one, not, petite...   \n",
              "6  [aded, basket, hte, last, mintue, see, would, ...   \n",
              "\n",
              "                                    cleaned_review_4  \n",
              "2  [high, hope, dress, really, wanted, work, init...  \n",
              "3  [love, love, love, jumpsuit, fun, flirty, fabu...  \n",
              "4  [shirt, flattering, due, adjustable, front, ti...  \n",
              "5  [love, tracy, reese, dress, one, not, petite, ...  \n",
              "6  [aded, basket, hte, last, mintue, see, would, ...  "
            ]
          },
          "execution_count": 31,
          "metadata": {},
          "output_type": "execute_result"
        }
      ],
      "source": [
        "# 4.Lemmatization (converts the words into base form eg: believes -> belief)\n",
        "def clean_data4(text):\n",
        "  lemmatizer = WordNetLemmatizer()\n",
        "  lemmatized_data = [lemmatizer.lemmatize(word) for word in text]\n",
        "  return lemmatized_data\n",
        "\n",
        "df['cleaned_review_4']=df['cleaned_review_3'].apply(lambda x: clean_data4(x))\n",
        "df.head()"
      ]
    },
    {
      "cell_type": "code",
      "execution_count": 32,
      "metadata": {
        "id": "KSEj1Ow-ctL6"
      },
      "outputs": [],
      "source": [
        "# cleaned_review4 column is replaced the review\n",
        "df['Review']=df['cleaned_review_4']\n"
      ]
    },
    {
      "cell_type": "code",
      "execution_count": 33,
      "metadata": {
        "colab": {
          "base_uri": "https://localhost:8080/",
          "height": 206
        },
        "id": "5_wn0UuvdHGp",
        "outputId": "f053d23f-15c4-4186-964c-018120f16af7"
      },
      "outputs": [
        {
          "data": {
            "text/html": [
              "<div>\n",
              "<style scoped>\n",
              "    .dataframe tbody tr th:only-of-type {\n",
              "        vertical-align: middle;\n",
              "    }\n",
              "\n",
              "    .dataframe tbody tr th {\n",
              "        vertical-align: top;\n",
              "    }\n",
              "\n",
              "    .dataframe thead th {\n",
              "        text-align: right;\n",
              "    }\n",
              "</style>\n",
              "<table border=\"1\" class=\"dataframe\">\n",
              "  <thead>\n",
              "    <tr style=\"text-align: right;\">\n",
              "      <th></th>\n",
              "      <th>Review</th>\n",
              "      <th>Cons_rating</th>\n",
              "    </tr>\n",
              "  </thead>\n",
              "  <tbody>\n",
              "    <tr>\n",
              "      <th>2</th>\n",
              "      <td>[high, hope, dress, really, wanted, work, init...</td>\n",
              "      <td>3.0</td>\n",
              "    </tr>\n",
              "    <tr>\n",
              "      <th>3</th>\n",
              "      <td>[love, love, love, jumpsuit, fun, flirty, fabu...</td>\n",
              "      <td>5.0</td>\n",
              "    </tr>\n",
              "    <tr>\n",
              "      <th>4</th>\n",
              "      <td>[shirt, flattering, due, adjustable, front, ti...</td>\n",
              "      <td>5.0</td>\n",
              "    </tr>\n",
              "    <tr>\n",
              "      <th>5</th>\n",
              "      <td>[love, tracy, reese, dress, one, not, petite, ...</td>\n",
              "      <td>2.0</td>\n",
              "    </tr>\n",
              "    <tr>\n",
              "      <th>6</th>\n",
              "      <td>[aded, basket, hte, last, mintue, see, would, ...</td>\n",
              "      <td>5.0</td>\n",
              "    </tr>\n",
              "  </tbody>\n",
              "</table>\n",
              "</div>"
            ],
            "text/plain": [
              "                                              Review  Cons_rating\n",
              "2  [high, hope, dress, really, wanted, work, init...          3.0\n",
              "3  [love, love, love, jumpsuit, fun, flirty, fabu...          5.0\n",
              "4  [shirt, flattering, due, adjustable, front, ti...          5.0\n",
              "5  [love, tracy, reese, dress, one, not, petite, ...          2.0\n",
              "6  [aded, basket, hte, last, mintue, see, would, ...          5.0"
            ]
          },
          "execution_count": 33,
          "metadata": {},
          "output_type": "execute_result"
        }
      ],
      "source": [
        "# dropping unwanted columns\n",
        "df=df.drop(columns=['cleaned_review_1','cleaned_review_2','cleaned_review_3','cleaned_review_4'])\n",
        "df.head()\n"
      ]
    },
    {
      "cell_type": "code",
      "execution_count": 34,
      "metadata": {
        "id": "lW6NuJV526s8"
      },
      "outputs": [],
      "source": [
        "def categorize_rating(rating):\n",
        "    if rating > 3:\n",
        "        return 'Positive'\n",
        "    elif rating < 2 :\n",
        "        return 'Negative'\n",
        "    else:\n",
        "        return 'Neutral'\n",
        "\n",
        "# Apply the categorize_rating function to categorize the rating as negative(1,2),positive(3,4),and neutral(3)\n",
        "df['Cons_rating'] = df['Cons_rating'].apply(lambda x: categorize_rating(x))"
      ]
    },
    {
      "cell_type": "code",
      "execution_count": 35,
      "metadata": {
        "id": "-s5aPdeknA-s"
      },
      "outputs": [],
      "source": [
        "# we have to joined the words as sentences because vectorization cannot be done with the array of words\n",
        "df['Review'] = [' '.join(text) for text in df['Review'] ]"
      ]
    },
    {
      "cell_type": "code",
      "execution_count": 36,
      "metadata": {
        "colab": {
          "base_uri": "https://localhost:8080/",
          "height": 206
        },
        "id": "0Wk4-5GknF56",
        "outputId": "d5fb169b-ded8-413b-a99b-b6bfffc746e1"
      },
      "outputs": [
        {
          "data": {
            "text/html": [
              "<div>\n",
              "<style scoped>\n",
              "    .dataframe tbody tr th:only-of-type {\n",
              "        vertical-align: middle;\n",
              "    }\n",
              "\n",
              "    .dataframe tbody tr th {\n",
              "        vertical-align: top;\n",
              "    }\n",
              "\n",
              "    .dataframe thead th {\n",
              "        text-align: right;\n",
              "    }\n",
              "</style>\n",
              "<table border=\"1\" class=\"dataframe\">\n",
              "  <thead>\n",
              "    <tr style=\"text-align: right;\">\n",
              "      <th></th>\n",
              "      <th>Review</th>\n",
              "      <th>Cons_rating</th>\n",
              "    </tr>\n",
              "  </thead>\n",
              "  <tbody>\n",
              "    <tr>\n",
              "      <th>2</th>\n",
              "      <td>high hope dress really wanted work initially o...</td>\n",
              "      <td>Neutral</td>\n",
              "    </tr>\n",
              "    <tr>\n",
              "      <th>3</th>\n",
              "      <td>love love love jumpsuit fun flirty fabulous ev...</td>\n",
              "      <td>Positive</td>\n",
              "    </tr>\n",
              "    <tr>\n",
              "      <th>4</th>\n",
              "      <td>shirt flattering due adjustable front tie perf...</td>\n",
              "      <td>Positive</td>\n",
              "    </tr>\n",
              "    <tr>\n",
              "      <th>5</th>\n",
              "      <td>love tracy reese dress one not petite foot tal...</td>\n",
              "      <td>Neutral</td>\n",
              "    </tr>\n",
              "    <tr>\n",
              "      <th>6</th>\n",
              "      <td>aded basket hte last mintue see would look lik...</td>\n",
              "      <td>Positive</td>\n",
              "    </tr>\n",
              "  </tbody>\n",
              "</table>\n",
              "</div>"
            ],
            "text/plain": [
              "                                              Review Cons_rating\n",
              "2  high hope dress really wanted work initially o...     Neutral\n",
              "3  love love love jumpsuit fun flirty fabulous ev...    Positive\n",
              "4  shirt flattering due adjustable front tie perf...    Positive\n",
              "5  love tracy reese dress one not petite foot tal...     Neutral\n",
              "6  aded basket hte last mintue see would look lik...    Positive"
            ]
          },
          "execution_count": 36,
          "metadata": {},
          "output_type": "execute_result"
        }
      ],
      "source": [
        "df.head()\n"
      ]
    },
    {
      "cell_type": "code",
      "execution_count": 37,
      "metadata": {
        "id": "3F_-3xAIpU2X"
      },
      "outputs": [],
      "source": [
        "#making copies of df\n",
        "df2 = df.copy()\n",
        "df3 = df.copy()"
      ]
    },
    {
      "cell_type": "markdown",
      "metadata": {
        "id": "LPF7SS8OQPOw"
      },
      "source": [
        "### Training the model\n",
        "\n"
      ]
    },
    {
      "cell_type": "markdown",
      "metadata": {
        "id": "hjmk7oQcvSSX"
      },
      "source": [
        "####  1.Using only td idf vectorization."
      ]
    },
    {
      "cell_type": "code",
      "execution_count": 38,
      "metadata": {
        "id": "PW3fJ7K-UGKP"
      },
      "outputs": [],
      "source": [
        "# tf idf vectorizing . this converts the words into binary values\n",
        "from sklearn.feature_extraction.text import TfidfVectorizer\n",
        "vect = TfidfVectorizer(min_df = 5,\n",
        "                             max_df = 0.8,\n",
        "                             sublinear_tf = True,\n",
        "                             use_idf = True)\n",
        "\n"
      ]
    },
    {
      "cell_type": "code",
      "execution_count": 39,
      "metadata": {
        "id": "zbNrP2F7UOJm"
      },
      "outputs": [],
      "source": [
        "# defining the X and Y \n",
        "X = df['Review']\n",
        "Y = df['Cons_rating']"
      ]
    },
    {
      "cell_type": "code",
      "execution_count": 40,
      "metadata": {
        "id": "NkPXOm4CfXHV"
      },
      "outputs": [],
      "source": [
        "# spliytting the dataset. 80 % for training and others for testing\n",
        "x_train, x_test, y_train, y_test = train_test_split(X, Y, test_size=0.2, random_state=42)"
      ]
    },
    {
      "cell_type": "code",
      "execution_count": 41,
      "metadata": {
        "colab": {
          "base_uri": "https://localhost:8080/"
        },
        "id": "mkCXIxmIfZXv",
        "outputId": "e34d60ed-ab96-4781-8e9b-3af3a5926771"
      },
      "outputs": [
        {
          "name": "stdout",
          "output_type": "stream",
          "text": [
            "Size of x_train: (36246,)\n",
            "Size of y_train: (36246,)\n",
            "Size of x_test: (9062,)\n",
            "Size of y_test: (9062,)\n"
          ]
        }
      ],
      "source": [
        "print(\"Size of x_train:\", (x_train.shape))\n",
        "print(\"Size of y_train:\", (y_train.shape))\n",
        "print(\"Size of x_test:\", (x_test.shape))\n",
        "print(\"Size of y_test:\", (y_test.shape))"
      ]
    },
    {
      "cell_type": "code",
      "execution_count": 42,
      "metadata": {
        "id": "DBahP-cd_5JM"
      },
      "outputs": [],
      "source": [
        "# using the vectorization for train and test dataset\n",
        "x_train = vect.fit_transform(x_train)\n",
        "x_test = vect.transform(x_test)"
      ]
    },
    {
      "cell_type": "code",
      "execution_count": 44,
      "metadata": {
        "colab": {
          "base_uri": "https://localhost:8080/"
        },
        "id": "f_G_mCPH5b2a",
        "outputId": "6636a0e0-4428-41c3-cf1f-68363f022832"
      },
      "outputs": [
        {
          "name": "stdout",
          "output_type": "stream",
          "text": [
            "Training Accuracy: 0.8608122275561442\n",
            "Test Accuracy: 0.8270801147649526\n",
            "Classification Report on Test Set:\n",
            "{'Negative': {'precision': 0.6094674556213018, 'recall': 0.42213114754098363, 'f1-score': 0.4987893462469733, 'support': 732.0}, 'Neutral': {'precision': 0.5716429107276819, 'recall': 0.48504137492043287, 'f1-score': 0.5247933884297521, 'support': 1571.0}, 'Positive': {'precision': 0.8895042924397674, 'recall': 0.9504364550969078, 'f1-score': 0.9189614476789928, 'support': 6759.0}, 'accuracy': 0.8270801147649526, 'macro avg': {'precision': 0.690204886262917, 'recall': 0.6192029925194414, 'f1-score': 0.6475147274519061, 'support': 9062.0}, 'weighted avg': {'precision': 0.8117789343266794, 'recall': 0.8270801147649526, 'f1-score': 0.8166877774815976, 'support': 9062.0}}\n"
          ]
        }
      ],
      "source": [
        "from sklearn import svm\n",
        "from sklearn.metrics import accuracy_score, classification_report\n",
        "# Create a linear SVM classifier\n",
        "classifier_linear = svm.SVC(kernel='linear')\n",
        "\n",
        "# Train the model on the training set\n",
        "classifier_linear.fit(x_train, y_train)\n",
        "\n",
        "# Predictions on the training set\n",
        "prediction_train = classifier_linear.predict(x_train)\n",
        "\n",
        "# Predictions on the test set\n",
        "prediction_test = classifier_linear.predict(x_test)\n",
        "\n",
        "# Accuracy on the training set\n",
        "accuracy_train = accuracy_score(y_train, prediction_train)\n",
        "\n",
        "# Accuracy on the test set\n",
        "accuracy_test = accuracy_score(y_test, prediction_test)\n",
        "\n",
        "# Display accuracies\n",
        "print(\"Training Accuracy:\", accuracy_train)\n",
        "print(\"Test Accuracy:\", accuracy_test)\n",
        "\n",
        "# Classification report on the test set\n",
        "report_test = classification_report(y_test, prediction_test, output_dict=True)\n",
        "print(\"Classification Report on Test Set:\")\n",
        "print(report_test)"
      ]
    },
    {
      "cell_type": "code",
      "execution_count": null,
      "metadata": {
        "colab": {
          "base_uri": "https://localhost:8080/"
        },
        "id": "c3E0GWd51h4D",
        "outputId": "d7e80115-dee1-42f7-96e5-74ad366d43ec"
      },
      "outputs": [
        {
          "data": {
            "image/png": "[encoded data removed]",
            "text/plain": [
              "<Figure size 640x480 with 1 Axes>"
            ]
          },
          "metadata": {},
          "output_type": "display_data"
        }
      ],
      "source": [
        "from sklearn.neighbors import KNeighborsClassifier\n",
        "# for finding the optimal k value this graph is plotted\n",
        "k_values = np.arange(1, 21)  \n",
        "\n",
        "# Initialize an empty list to store accuracy scores for each k\n",
        "accuracy_scores = []\n",
        "\n",
        "# Loop through different k values\n",
        "for k in k_values:\n",
        "    # Train a KNN classifier with the current k value\n",
        "    knn_classifier = KNeighborsClassifier(n_neighbors=k)\n",
        "    knn_classifier.fit(x_train, y_train)\n",
        "\n",
        "    # Make predictions on the test set\n",
        "    predictions = knn_classifier.predict(x_test)\n",
        "\n",
        "    # Calculate accuracy and store it in the list\n",
        "    accuracy = accuracy_score(y_test, predictions)\n",
        "    accuracy_scores.append(accuracy)\n",
        "\n",
        "# Plot the accuracy scores for different k values\n",
        "plt.plot(k_values, accuracy_scores, marker='o')\n",
        "plt.title('Accuracy vs. K Value for KNN Classifier')\n",
        "plt.xlabel('Number of Neighbors (k)')\n",
        "plt.ylabel('Accuracy')\n",
        "plt.xticks(k_values)\n",
        "plt.grid(True)\n",
        "plt.show()"
      ]
    },
    {
      "cell_type": "code",
      "execution_count": 46,
      "metadata": {},
      "outputs": [
        {
          "name": "stdout",
          "output_type": "stream",
          "text": [
            "Training Accuracy: 0.7602218175798708\n",
            "Test Accuracy: 0.7529242992716839\n"
          ]
        }
      ],
      "source": [
        "from sklearn.neighbors import KNeighborsClassifier\n",
        "from sklearn.metrics import accuracy_score\n",
        "\n",
        "\n",
        "knn_classifier = KNeighborsClassifier(n_neighbors=5)\n",
        "\n",
        "# Train the model on the training set\n",
        "knn_classifier.fit(x_train, y_train)\n",
        "\n",
        "# Predictions on the training set\n",
        "predictions_train_knn = knn_classifier.predict(x_train)\n",
        "\n",
        "# Predictions on the test set\n",
        "predictions_test_knn = knn_classifier.predict(x_test)\n",
        "\n",
        "# Accuracy on the training set\n",
        "accuracy_train_knn = accuracy_score(y_train, predictions_train_knn)\n",
        "\n",
        "# Accuracy on the test set\n",
        "accuracy_test_knn = accuracy_score(y_test, predictions_test_knn)\n",
        "\n",
        "# Display accuracies\n",
        "print(\"Training Accuracy:\", accuracy_train_knn)\n",
        "print(\"Test Accuracy:\", accuracy_test_knn)\n"
      ]
    },
    {
      "cell_type": "code",
      "execution_count": 53,
      "metadata": {},
      "outputs": [
        {
          "data": {
            "image/png": "[encoded data removed]",
            "text/plain": [
              "<Figure size 640x480 with 1 Axes>"
            ]
          },
          "metadata": {},
          "output_type": "display_data"
        }
      ],
      "source": [
        "import matplotlib.pyplot as plt\n",
        "\n",
        "# Accuracy values for SVM and KNN\n",
        "svm_accuracies = [accuracy_train, accuracy_test]\n",
        "knn_accuracies = [accuracy_train_knn, accuracy_test_knn]\n",
        "\n",
        "# Labels for the categories\n",
        "labels = ['Training', 'Test']\n",
        "\n",
        "# Plotting the accuracies\n",
        "plt.plot(labels, svm_accuracies, label='SVM', marker='o')\n",
        "plt.plot(labels, knn_accuracies, label='KNN', marker='o')\n",
        "\n",
        "# Adding labels and title\n",
        "plt.xlabel('Dataset')\n",
        "plt.ylabel('Accuracy')\n",
        "plt.title('Accuracy Comparison between SVM and KNN')\n",
        "plt.legend()\n",
        "\n",
        "\n",
        "plt.show()\n"
      ]
    },
    {
      "cell_type": "markdown",
      "metadata": {},
      "source": [
        "#### predicting output with the new data"
      ]
    },
    {
      "cell_type": "code",
      "execution_count": null,
      "metadata": {
        "colab": {
          "base_uri": "https://localhost:8080/"
        },
        "id": "vwbhZQ8cPdMl",
        "outputId": "4c6478a3-27a3-40c3-c0bd-052bb2412cbf"
      },
      "outputs": [
        {
          "name": "stdout",
          "output_type": "stream",
          "text": [
            "Predicted Category: Positive\n"
          ]
        }
      ],
      "source": [
        "new_text = [\"i like this dress\"]\n",
        "\n",
        "new_text = clean_data1(new_text);\n",
        "new_text = clean_data2(new_text);\n",
        "new_text = clean_data3(new_text);\n",
        "new_text = clean_data4(new_text);\n",
        "# Transform the new text using the same vectorizer\n",
        "new_text_vectorized = vect.transform(new_text);\n",
        "\n",
        "# Use the trained KNN model to predict the category for the new text\n",
        "predicted_category = knn_classifier.predict(new_text_vectorized)\n",
        "\n",
        "# Display the predicted category\n",
        "print(\"Predicted Category:\", predicted_category[0])"
      ]
    },
    {
      "cell_type": "markdown",
      "metadata": {},
      "source": [
        "#### To increase the accuracy we have used the N-Gram(Bigram and Trigram) method. but the accuracy got dropped. therefore, above model is the model with high accuracy."
      ]
    },
    {
      "cell_type": "markdown",
      "metadata": {
        "id": "7NH6ShL6R1qn"
      },
      "source": [
        "#### 2.Using trigrams and vectorization.\n",
        "\n"
      ]
    },
    {
      "cell_type": "code",
      "execution_count": 46,
      "metadata": {
        "colab": {
          "base_uri": "https://localhost:8080/",
          "height": 206
        },
        "id": "u30IIY6HDiZV",
        "outputId": "ce223647-6667-4ea0-dfc2-6b747a341abf"
      },
      "outputs": [
        {
          "data": {
            "text/html": [
              "<div>\n",
              "<style scoped>\n",
              "    .dataframe tbody tr th:only-of-type {\n",
              "        vertical-align: middle;\n",
              "    }\n",
              "\n",
              "    .dataframe tbody tr th {\n",
              "        vertical-align: top;\n",
              "    }\n",
              "\n",
              "    .dataframe thead th {\n",
              "        text-align: right;\n",
              "    }\n",
              "</style>\n",
              "<table border=\"1\" class=\"dataframe\">\n",
              "  <thead>\n",
              "    <tr style=\"text-align: right;\">\n",
              "      <th></th>\n",
              "      <th>Review</th>\n",
              "      <th>Cons_rating</th>\n",
              "    </tr>\n",
              "  </thead>\n",
              "  <tbody>\n",
              "    <tr>\n",
              "      <th>2</th>\n",
              "      <td>high hope dress really wanted work initially o...</td>\n",
              "      <td>Neutral</td>\n",
              "    </tr>\n",
              "    <tr>\n",
              "      <th>3</th>\n",
              "      <td>love love love jumpsuit fun flirty fabulous ev...</td>\n",
              "      <td>Positive</td>\n",
              "    </tr>\n",
              "    <tr>\n",
              "      <th>4</th>\n",
              "      <td>shirt flattering due adjustable front tie perf...</td>\n",
              "      <td>Positive</td>\n",
              "    </tr>\n",
              "    <tr>\n",
              "      <th>5</th>\n",
              "      <td>love tracy reese dress one not petite foot tal...</td>\n",
              "      <td>Neutral</td>\n",
              "    </tr>\n",
              "    <tr>\n",
              "      <th>6</th>\n",
              "      <td>aded basket hte last mintue see would look lik...</td>\n",
              "      <td>Positive</td>\n",
              "    </tr>\n",
              "  </tbody>\n",
              "</table>\n",
              "</div>"
            ],
            "text/plain": [
              "                                              Review Cons_rating\n",
              "2  high hope dress really wanted work initially o...     Neutral\n",
              "3  love love love jumpsuit fun flirty fabulous ev...    Positive\n",
              "4  shirt flattering due adjustable front tie perf...    Positive\n",
              "5  love tracy reese dress one not petite foot tal...     Neutral\n",
              "6  aded basket hte last mintue see would look lik...    Positive"
            ]
          },
          "execution_count": 46,
          "metadata": {},
          "output_type": "execute_result"
        }
      ],
      "source": [
        "df2.head()"
      ]
    },
    {
      "cell_type": "code",
      "execution_count": 47,
      "metadata": {
        "colab": {
          "base_uri": "https://localhost:8080/",
          "height": 652
        },
        "id": "af1o3rzDR8se",
        "outputId": "cfde3909-a722-4660-a9f3-818d864d848d"
      },
      "outputs": [
        {
          "data": {
            "image/png": "[encoded data removed]",
            "text/plain": [
              "<Figure size 1000x500 with 1 Axes>"
            ]
          },
          "metadata": {},
          "output_type": "display_data"
        }
      ],
      "source": [
        "from sklearn.feature_extraction.text import TfidfVectorizer\n",
        "\n",
        "\n",
        "\n",
        "\n",
        "# TF-IDF vectorization\n",
        "vectorizer = TfidfVectorizer(max_features=1500,ngram_range=(3, 3))\n",
        "X_tfidf = vectorizer.fit_transform(df2['Review'])\n",
        "tfidf_array = X_tfidf.toarray()\n",
        "df_tfidf = pd.DataFrame(data=tfidf_array, columns=vectorizer.get_feature_names_out())\n",
        "\n",
        "# Sum TF-IDF scores and sort values\n",
        "tfidf_sum = df_tfidf.sum().sort_values(ascending=False)[0:15] #only taking top 15 trigrams\n",
        "\n",
        "# Plot bar chart\n",
        "plt.figure(figsize=(10, 5))\n",
        "g = sns.barplot(y=tfidf_sum, x=tfidf_sum.index)\n",
        "plt.xticks(rotation=90)\n",
        "plt.title('Top 15 3-grams based on TF-IDF')\n",
        "plt.show()\n",
        "\n",
        "# these are the most presented 3-grams(3-gram or trigram means 3 consecutive words presented in the review)\n"
      ]
    },
    {
      "cell_type": "code",
      "execution_count": 48,
      "metadata": {
        "id": "Omcxeif8pDlK"
      },
      "outputs": [],
      "source": [
        "X = df2['Review']\n",
        "Y = df2['Cons_rating']"
      ]
    },
    {
      "cell_type": "code",
      "execution_count": 49,
      "metadata": {
        "id": "ZMoOjBJPpDlK"
      },
      "outputs": [],
      "source": [
        "x_train, x_test, y_train, y_test = train_test_split(X, Y, test_size=0.2, random_state=42)"
      ]
    },
    {
      "cell_type": "code",
      "execution_count": 50,
      "metadata": {
        "colab": {
          "base_uri": "https://localhost:8080/"
        },
        "id": "Xj_GJNr1pDlK",
        "outputId": "273164b8-b322-4d99-f1f1-0306893f9dae"
      },
      "outputs": [
        {
          "name": "stdout",
          "output_type": "stream",
          "text": [
            "Size of x_train: (36246,)\n",
            "Size of y_train: (36246,)\n",
            "Size of x_test: (9062,)\n",
            "Size of y_test: (9062,)\n"
          ]
        }
      ],
      "source": [
        "print(\"Size of x_train:\", (x_train.shape))\n",
        "print(\"Size of y_train:\", (y_train.shape))\n",
        "print(\"Size of x_test:\", (x_test.shape))\n",
        "print(\"Size of y_test:\", (y_test.shape))"
      ]
    },
    {
      "cell_type": "code",
      "execution_count": 52,
      "metadata": {
        "id": "jOXyd8CfpDlL"
      },
      "outputs": [],
      "source": [
        "x_train = vectorizer.fit_transform(x_train)\n",
        "x_test = vectorizer.transform(x_test)"
      ]
    },
    {
      "cell_type": "code",
      "execution_count": 53,
      "metadata": {
        "colab": {
          "base_uri": "https://localhost:8080/"
        },
        "id": "BI0_GhGbpDlL",
        "outputId": "7031242c-048b-4a9e-a094-405ee049ebf2"
      },
      "outputs": [
        {
          "name": "stdout",
          "output_type": "stream",
          "text": [
            "Accuracy: 0.7575590377400132\n"
          ]
        }
      ],
      "source": [
        "\n",
        "from sklearn import svm\n",
        "from sklearn.metrics import classification_report\n",
        "# Perform classification with SVM, kernel=linear\n",
        "\n",
        "\n",
        "classifier_linear = svm.SVC(kernel='linear')\n",
        "\n",
        "classifier_linear.fit(x_train, y_train)\n",
        "\n",
        "prediction_linear = classifier_linear.predict(x_test)\n",
        "\n",
        "# results\n",
        "report2 = classification_report(y_test, prediction_linear, output_dict=True)\n",
        "\n",
        "accuracy2 = report2['accuracy']\n",
        "print(\"Accuracy:\", accuracy2)\n"
      ]
    },
    {
      "cell_type": "code",
      "execution_count": 54,
      "metadata": {
        "colab": {
          "base_uri": "https://localhost:8080/"
        },
        "id": "TEbqS9b0pDlL",
        "outputId": "25b91ab1-210c-4afd-e261-cb47f0b00334"
      },
      "outputs": [
        {
          "name": "stdout",
          "output_type": "stream",
          "text": [
            "Accuracy: 0.41778856764511146\n"
          ]
        }
      ],
      "source": [
        "from sklearn.neighbors import KNeighborsClassifier\n",
        "\n",
        "knn_classifier = KNeighborsClassifier(n_neighbors=5)\n",
        "knn_classifier.fit(x_train, y_train)\n",
        "\n",
        "predictions = knn_classifier.predict(x_test)\n",
        "\n",
        "accuracy = accuracy_score(y_test, predictions)\n",
        "print(\"Accuracy:\", accuracy)\n",
        "\n"
      ]
    },
    {
      "cell_type": "markdown",
      "metadata": {
        "id": "ueDLntGfqTot"
      },
      "source": [
        "####  3.using bigram and vectorization"
      ]
    },
    {
      "cell_type": "code",
      "execution_count": 55,
      "metadata": {
        "colab": {
          "base_uri": "https://localhost:8080/",
          "height": 541
        },
        "id": "1SsVgGXwqgyh",
        "outputId": "46536198-7b1d-4b9c-f337-7567c89e31dc"
      },
      "outputs": [
        {
          "data": {
            "image/png": "[encoded data removed]",
            "text/plain": [
              "<Figure size 1000x500 with 1 Axes>"
            ]
          },
          "metadata": {},
          "output_type": "display_data"
        }
      ],
      "source": [
        "from sklearn.feature_extraction.text import TfidfVectorizer\n",
        "\n",
        "\n",
        "# TF-IDF vectorization\n",
        "vectorizer = TfidfVectorizer(max_features=600, ngram_range=(2, 2))\n",
        "X_tfidf = vectorizer.fit_transform(df2['Review'])\n",
        "tfidf_array = X_tfidf.toarray()\n",
        "df_tfidf = pd.DataFrame(data=tfidf_array, columns=vectorizer.get_feature_names_out())\n",
        "\n",
        "# Sum TF-IDF scores and sort values\n",
        "tfidf_sum = df_tfidf.sum().sort_values(ascending=False)[0:15]\n",
        "\n",
        "# Plot bar chart\n",
        "plt.figure(figsize=(10, 5))\n",
        "g = sns.barplot(y=tfidf_sum, x=tfidf_sum.index)\n",
        "plt.xticks(rotation=90)\n",
        "plt.title('Top 15 2-grams based on TF-IDF')\n",
        "plt.show()\n",
        "\n",
        "\n",
        "# these are the most presented 2-grams(2-gram or bigram means 2 consecutive words presented in the review)"
      ]
    },
    {
      "cell_type": "code",
      "execution_count": 56,
      "metadata": {
        "id": "DxvHjQP7qgyi"
      },
      "outputs": [],
      "source": [
        "X = df2['Review']\n",
        "Y = df2['Cons_rating']"
      ]
    },
    {
      "cell_type": "code",
      "execution_count": 57,
      "metadata": {
        "id": "fwzvKLWdqgyi"
      },
      "outputs": [],
      "source": [
        "x_train, x_test, y_train, y_test = train_test_split(X, Y, test_size=0.2, random_state=42)"
      ]
    },
    {
      "cell_type": "code",
      "execution_count": 58,
      "metadata": {
        "colab": {
          "base_uri": "https://localhost:8080/"
        },
        "id": "1At-wIK2qgyi",
        "outputId": "9595eb85-22b2-4637-d803-04154b1feba9"
      },
      "outputs": [
        {
          "name": "stdout",
          "output_type": "stream",
          "text": [
            "Size of x_train: (36246,)\n",
            "Size of y_train: (36246,)\n",
            "Size of x_test: (9062,)\n",
            "Size of y_test: (9062,)\n"
          ]
        }
      ],
      "source": [
        "print(\"Size of x_train:\", (x_train.shape))\n",
        "print(\"Size of y_train:\", (y_train.shape))\n",
        "print(\"Size of x_test:\", (x_test.shape))\n",
        "print(\"Size of y_test:\", (y_test.shape))"
      ]
    },
    {
      "cell_type": "code",
      "execution_count": 60,
      "metadata": {
        "id": "Iq0eqFNSqgyj"
      },
      "outputs": [],
      "source": [
        "x_train = vectorizer.fit_transform(x_train)\n",
        "x_test = vectorizer.transform(x_test)"
      ]
    },
    {
      "cell_type": "code",
      "execution_count": 61,
      "metadata": {
        "colab": {
          "base_uri": "https://localhost:8080/"
        },
        "id": "Nl736dzLqgyj",
        "outputId": "9dabf72b-258f-4a84-e035-a23d4d2f7468"
      },
      "outputs": [
        {
          "name": "stdout",
          "output_type": "stream",
          "text": [
            "Accuracy: 0.7743323769587288\n"
          ]
        }
      ],
      "source": [
        "\n",
        "from sklearn import svm\n",
        "from sklearn.metrics import classification_report\n",
        "# Perform classification with SVM, kernel=linear\n",
        "\n",
        "\n",
        "classifier_linear = svm.SVC(kernel='linear')\n",
        "\n",
        "classifier_linear.fit(x_train, y_train)\n",
        "\n",
        "prediction_linear = classifier_linear.predict(x_test)\n",
        "\n",
        "# results\n",
        "\n",
        "report = classification_report(y_test, prediction_linear, output_dict=True)\n",
        "\n",
        "accuracy = report['accuracy']\n",
        "print(\"Accuracy:\", accuracy)\n"
      ]
    },
    {
      "cell_type": "code",
      "execution_count": 62,
      "metadata": {
        "colab": {
          "base_uri": "https://localhost:8080/"
        },
        "id": "w-Rvahjsqgyj",
        "outputId": "0731fc17-4260-4314-b3cf-90fe506a5c1d"
      },
      "outputs": [
        {
          "name": "stdout",
          "output_type": "stream",
          "text": [
            "Accuracy: 0.7317369234164643\n"
          ]
        }
      ],
      "source": [
        "from sklearn.neighbors import KNeighborsClassifier\n",
        "\n",
        "knn_classifier = KNeighborsClassifier(n_neighbors=5)\n",
        "knn_classifier.fit(x_train, y_train)\n",
        "\n",
        "predictions = knn_classifier.predict(x_test)\n",
        "\n",
        "accuracy = accuracy_score(y_test, predictions)\n",
        "print(\"Accuracy:\", accuracy)\n",
        "\n"
      ]
    },
    {
      "cell_type": "markdown",
      "metadata": {
        "id": "JjZxe6XNw-Tq"
      },
      "source": [
        "### Accuracy comparition"
      ]
    },
    {
      "cell_type": "markdown",
      "metadata": {},
      "source": [
        "##### This part compares the accuracy between above mentioned three methods. from the graph we can see that the method without using the ngram gives the best accuracy both in svm and knn"
      ]
    },
    {
      "cell_type": "code",
      "execution_count": 65,
      "metadata": {},
      "outputs": [
        {
          "data": {
            "image/png": "[encoded data removed]",
            "text/plain": [
              "<Figure size 640x480 with 1 Axes>"
            ]
          },
          "metadata": {},
          "output_type": "display_data"
        }
      ],
      "source": [
        "\n",
        "methods = ['without N-grams', 'Trigrams', 'Bigrams']\n",
        "svm_accuracy = [0.8270801147649526, 0.7575590377400132, 0.7743323769587288]\n",
        "knn_accuracy = [0.7529242992716839, 0.41778856764511146, 0.7317369234164643]\n",
        "\n",
        "# Plotting\n",
        "bar_width = 0.35\n",
        "index = np.arange(len(methods))\n",
        "\n",
        "fig, ax = plt.subplots()\n",
        "\n",
        "rects1 = ax.bar(index, svm_accuracy, bar_width, label='SVM')\n",
        "rects2 = ax.bar(index + bar_width, knn_accuracy, bar_width, label='KNN')\n",
        "\n",
        "# Add labels, title, and legend\n",
        "ax.set_xlabel('Text Representations')\n",
        "ax.set_ylabel('Accuracy')\n",
        "ax.set_title('Accuracy comparison with different text representations')\n",
        "ax.set_xticks(index + bar_width / 2)\n",
        "ax.set_xticklabels(methods)\n",
        "ax.legend()\n",
        "\n",
        "# Show the plot\n",
        "plt.show()"
      ]
    }
  ],
  "metadata": {
    "colab": {
      "provenance": [],
      "toc_visible": true
    },
    "kernelspec": {
      "display_name": "Python 3",
      "name": "python3"
    },
    "language_info": {
      "codemirror_mode": {
        "name": "ipython",
        "version": 3
      },
      "file_extension": ".py",
      "mimetype": "text/x-python",
      "name": "python",
      "nbconvert_exporter": "python",
      "pygments_lexer": "ipython3",
      "version": "3.9.18"
    }
  },
  "nbformat": 4,
  "nbformat_minor": 0
}
